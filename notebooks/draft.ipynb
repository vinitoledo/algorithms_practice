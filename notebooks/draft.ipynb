{
 "cells": [
  {
   "cell_type": "code",
   "execution_count": 5,
   "metadata": {},
   "outputs": [],
   "source": [
    "## Rod Curttin\n",
    "# Given a rod of length n and a table of prices p, determine the maximum revenue r obtained\n",
    "# by cutting the rod and selling the pieces\n",
    "\n",
    "## Memoized-Cut-Rod\n",
    "\n",
    "length = [1,2,3,4,5,6,7,8,9,10]\n",
    "price = [1,5,8,9,10,17,17,20,24,30]\n",
    "\n"
   ]
  },
  {
   "cell_type": "code",
   "execution_count": 118,
   "metadata": {},
   "outputs": [],
   "source": [
    "def memoized_cut_rod(p,n):\n",
    "    r = [-1]*n\n",
    "    return memoized_cut_rod_aux(p,n,r)\n",
    "        \n",
    "        \n",
    "\n",
    "\n",
    "def memoized_cut_rod_aux(p,n,r):\n",
    "    if r[n-1] >=0:\n",
    "        return r[n-1]\n",
    "    if n == 0:\n",
    "        return 0\n",
    "    else:\n",
    "        q = -1\n",
    "        for i in range(1, n+1):\n",
    "            q = max(q, p[i-1] + memoized_cut_rod_aux(p,n - i,r))\n",
    "            \n",
    "    r[n-1] = q\n",
    "    \n",
    "    return q\n",
    "\n",
    "def bottom_up_cut_rod(p,n):\n",
    "    r = [0]*(n+1) \n",
    "    r[0] = 0\n",
    "    \n",
    "    for i in range(1,n+1):    \n",
    "        q = -1\n",
    "        for j in range(1,i+1):   \n",
    "            q = max(q, p[j-1] + r[i-j])   \n",
    "        r[i] = q\n",
    "    return r[n]\n",
    "                "
   ]
  },
  {
   "cell_type": "code",
   "execution_count": 121,
   "metadata": {},
   "outputs": [
    {
     "data": {
      "text/plain": [
       "25"
      ]
     },
     "execution_count": 121,
     "metadata": {},
     "output_type": "execute_result"
    }
   ],
   "source": [
    "p = [1,5,8,9,10,17,17,20,24,30]\n",
    "n = 8\n",
    "\n",
    "\n",
    "#memoized_cut_rod(p,0)\n",
    "bottom_up_cut_rod(p,9)\n",
    "\n"
   ]
  }
 ],
 "metadata": {
  "kernelspec": {
   "display_name": "Python 3",
   "language": "python",
   "name": "python3"
  },
  "language_info": {
   "codemirror_mode": {
    "name": "ipython",
    "version": 3
   },
   "file_extension": ".py",
   "mimetype": "text/x-python",
   "name": "python",
   "nbconvert_exporter": "python",
   "pygments_lexer": "ipython3",
   "version": "3.8.6"
  }
 },
 "nbformat": 4,
 "nbformat_minor": 4
}
